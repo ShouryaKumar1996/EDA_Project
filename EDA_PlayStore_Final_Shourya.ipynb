{
  "nbformat": 4,
  "nbformat_minor": 0,
  "metadata": {
    "colab": {
      "private_outputs": true,
      "provenance": [],
      "collapsed_sections": [
        "gIfDvo9L0UH2"
      ],
      "include_colab_link": true
    },
    "kernelspec": {
      "name": "python3",
      "display_name": "Python 3"
    },
    "language_info": {
      "name": "python"
    }
  },
  "cells": [
    {
      "cell_type": "markdown",
      "metadata": {
        "id": "view-in-github",
        "colab_type": "text"
      },
      "source": [
        "<a href=\"https://colab.research.google.com/github/ShouryaKumar1996/EDA_Project/blob/main/EDA_PlayStore_Final_Shourya.ipynb\" target=\"_parent\"><img src=\"https://colab.research.google.com/assets/colab-badge.svg\" alt=\"Open In Colab\"/></a>"
      ]
    },
    {
      "cell_type": "markdown",
      "source": [
        "# **Project Name**    - EDA on Playstore app data\n",
        "\n",
        "\n"
      ],
      "metadata": {
        "id": "vncDsAP0Gaoa"
      }
    },
    {
      "cell_type": "markdown",
      "source": [
        "##### **Project Type**    - EDA on Playstore Data **set**\n",
        "##### **Contribution**    - Individual\n",
        "##### **Prepared By**    - Shourya KUmar\n",
        "\n",
        "\n"
      ],
      "metadata": {
        "id": "beRrZCGUAJYm"
      }
    },
    {
      "cell_type": "markdown",
      "source": [
        "# **Project Summary -**"
      ],
      "metadata": {
        "id": "FJNUwmbgGyua"
      }
    },
    {
      "cell_type": "markdown",
      "source": [
        "In this project, the aim is to conduct an Exploratory Data Analysis (EDA) on a dataset comprising information from the Google Play Store. The dataset in question is divided into two main parts: \"Play Store Data.csv\" and \"User Reviews.csv\". The \"Play Store Data.csv\" file includes various details about apps available in the Google Play Store, such as app names, categories, ratings, reviews, size, installs, type (free or paid), price, content rating, genres, last updated, current version, and Android version. Meanwhile, the \"User Reviews.csv\" file contains user-generated reviews for these apps, providing insights into user sentiment and feedback.\n",
        "\n",
        "This project's core objective is to extract valuable insights and trends from the dataset, which could be beneficial for developers, marketers, and analysts to understand the current app market landscape on the Google Play Store. It involves cleaning the data by handling missing values, converting non-numeric values to a suitable numeric format for analysis, and deriving additional metrics that could offer deeper insights into app performance and user preferences.We will answer some business questions in this project that can help us get some important insight from data.\n"
      ],
      "metadata": {
        "id": "F6v_1wHtG2nS"
      }
    },
    {
      "cell_type": "markdown",
      "source": [
        "# **GitHub Link -**"
      ],
      "metadata": {
        "id": "w6K7xa23Elo4"
      }
    },
    {
      "cell_type": "markdown",
      "source": [
        "Provide your GitHub Link here."
      ],
      "metadata": {
        "id": "h1o69JH3Eqqn"
      }
    },
    {
      "cell_type": "markdown",
      "source": [],
      "metadata": {
        "id": "tLt5lzhWX2M7"
      }
    },
    {
      "cell_type": "markdown",
      "source": [
        "Q1. How are apps distributed across different categories in the Google Play Store?\n",
        "\n",
        "Q2. What is the relationship between app ratings and the number of reviews?\n",
        "\n",
        "Q3. How do app ratings vary across different content ratings (e.g., Everyone, Teen, Mature)?\n",
        "\n",
        "Q4. What are the top 10 apps by number of installs in each category?\n",
        "\n",
        "Q5. What is the distribution of app prices in the paid apps category?\n",
        "\n",
        "Q6. How frequently are apps updated with ratings?\n",
        "\n",
        "Q7. What are the common words used in positive and negative reviews in the User Reviews dataset?\n",
        "\n",
        "Q8. How does the sentiment polarity of reviews vary across top categories?\n",
        "\n",
        "Q9. What percentage of apps support different versions of Android?\n",
        "\n",
        "Q10. What are Number of app installs by content rating?\n",
        "\n",
        "Q11. What is the Percentage of free and paid apps?\n",
        "\n",
        "Q12. Calculate the average rating per category.\n",
        "\n",
        "Q13. What is the Correlation between Rating,review,Install and price?\n",
        "\n",
        "Q14. Average app rating per year."
      ],
      "metadata": {
        "id": "ISnd9MRX0Lbt"
      }
    },
    {
      "cell_type": "markdown",
      "source": [
        "# STEPS:"
      ],
      "metadata": {
        "id": "JwFE-AbAxVUN"
      }
    },
    {
      "cell_type": "markdown",
      "source": [
        "\n",
        "Steps involved:\n",
        "\n",
        "1. Importing libraries\n",
        "\n",
        "2. Loading the dataset\n",
        "\n",
        "3. Data Cleaning\n",
        "\n",
        "4. Exploratory Data Analysis\n",
        "\n",
        "5. Visualization\n",
        "\n",
        "6. Observations\n",
        "\n",
        "7. Conclusion"
      ],
      "metadata": {
        "id": "DpeJGUA3kjGy"
      }
    },
    {
      "cell_type": "markdown",
      "source": [
        "# ***Let's Begin !***"
      ],
      "metadata": {
        "id": "O_i_v8NEhb9l"
      }
    },
    {
      "cell_type": "markdown",
      "source": [
        "## ***1. Know Your Data***"
      ],
      "metadata": {
        "id": "HhfV-JJviCcP"
      }
    },
    {
      "cell_type": "markdown",
      "source": [
        "### Import Libraries"
      ],
      "metadata": {
        "id": "Y3lxredqlCYt"
      }
    },
    {
      "cell_type": "code",
      "source": [
        "# Import Libraries\n",
        "import numpy as np\n",
        "import pandas as pd\n",
        "from datetime import datetime\n",
        "import seaborn as sns\n",
        "import matplotlib.pyplot as plt\n",
        "%matplotlib inline"
      ],
      "metadata": {
        "id": "M8Vqi-pPk-HR"
      },
      "execution_count": null,
      "outputs": []
    },
    {
      "cell_type": "markdown",
      "source": [
        "### Dataset Loading"
      ],
      "metadata": {
        "id": "3RnN4peoiCZX"
      }
    },
    {
      "cell_type": "code",
      "source": [
        "# Load Dataset\n",
        "from google.colab import drive\n",
        "drive.mount('/content/drive')"
      ],
      "metadata": {
        "id": "4CkvbW_SlZ_R"
      },
      "execution_count": null,
      "outputs": []
    },
    {
      "cell_type": "code",
      "source": [
        "playstore_data = pd.read_csv('/content/drive/MyDrive/EDA_shourya/Play Store Data.csv')\n",
        "user_review_data = pd.read_csv('/content/drive/MyDrive/EDA_shourya/User Reviews.csv')"
      ],
      "metadata": {
        "id": "O7LrhaPN1kVW"
      },
      "execution_count": null,
      "outputs": []
    },
    {
      "cell_type": "markdown",
      "source": [
        "### Dataset First View"
      ],
      "metadata": {
        "id": "x71ZqKXriCWQ"
      }
    },
    {
      "cell_type": "code",
      "source": [
        "# Dataset First Look\n",
        "playstore_data.head(5)"
      ],
      "metadata": {
        "id": "LWNFOSvLl09H"
      },
      "execution_count": null,
      "outputs": []
    },
    {
      "cell_type": "code",
      "source": [
        "playstore_data.tail(5)"
      ],
      "metadata": {
        "id": "QsktetiR2gyo"
      },
      "execution_count": null,
      "outputs": []
    },
    {
      "cell_type": "code",
      "source": [
        "playstore_data.info()"
      ],
      "metadata": {
        "id": "-3H5rcZh2PuM"
      },
      "execution_count": null,
      "outputs": []
    },
    {
      "cell_type": "code",
      "source": [
        "playstore_data.describe()"
      ],
      "metadata": {
        "id": "ilF2iFTd3ooa"
      },
      "execution_count": null,
      "outputs": []
    },
    {
      "cell_type": "markdown",
      "source": [
        "### Dataset Rows & Columns count"
      ],
      "metadata": {
        "id": "7hBIi_osiCS2"
      }
    },
    {
      "cell_type": "code",
      "source": [
        "# Dataset Rows & Columns count\n",
        "playstore_data.shape,user_review_data.shape"
      ],
      "metadata": {
        "id": "Kllu7SJgmLij"
      },
      "execution_count": null,
      "outputs": []
    },
    {
      "cell_type": "markdown",
      "source": [
        "### Dataset Information"
      ],
      "metadata": {
        "id": "JlHwYmJAmNHm"
      }
    },
    {
      "cell_type": "code",
      "source": [
        "# Dataset Info\n",
        "user_review_data.head()"
      ],
      "metadata": {
        "id": "e9hRXRi6meOf"
      },
      "execution_count": null,
      "outputs": []
    },
    {
      "cell_type": "code",
      "source": [
        "user_review_data.tail()"
      ],
      "metadata": {
        "id": "dirb8H683TAy"
      },
      "execution_count": null,
      "outputs": []
    },
    {
      "cell_type": "code",
      "source": [
        "user_review_data.info()"
      ],
      "metadata": {
        "id": "-CjzWUyN3aKX"
      },
      "execution_count": null,
      "outputs": []
    },
    {
      "cell_type": "code",
      "source": [
        "user_review_data.describe()"
      ],
      "metadata": {
        "id": "-aV11zrp3f8a"
      },
      "execution_count": null,
      "outputs": []
    },
    {
      "cell_type": "markdown",
      "source": [
        "#### Duplicate Values"
      ],
      "metadata": {
        "id": "35m5QtbWiB9F"
      }
    },
    {
      "cell_type": "code",
      "source": [
        "# Dataset Duplicate Value Count\n",
        "duplicate_counts_ps= playstore_data.duplicated(keep=False).sum()\n",
        "duplicate_counts_ur = user_review_data.duplicated(keep=False).sum()\n",
        "\n",
        "\n",
        "print(\"No. of duplicates in Playstore data\" ,duplicate_counts_ps)\n",
        "print(\"No. of duplicates in \" ,duplicate_counts_ur)\n",
        "\n",
        "\n"
      ],
      "metadata": {
        "id": "1sLdpKYkmox0"
      },
      "execution_count": null,
      "outputs": []
    },
    {
      "cell_type": "code",
      "source": [
        "\n",
        "# Data preparation\n",
        "duplicate_status = ['Duplicates', 'Unique']\n",
        "counts = [playstore_data.duplicated(keep=False).sum(), (~playstore_data.duplicated(keep=False)).sum()]\n",
        "\n",
        "# Plotting\n",
        "plt.figure(figsize=(8, 6))\n",
        "plt.bar(duplicate_status, counts, color=['red', 'green'])\n",
        "plt.title('Duplicate vs Unique Rows (Playstore data)')\n",
        "plt.ylabel('Count')\n",
        "plt.show()\n"
      ],
      "metadata": {
        "id": "qMqExAWt-f06"
      },
      "execution_count": null,
      "outputs": []
    },
    {
      "cell_type": "code",
      "source": [
        "\n",
        "# Data preparation\n",
        "duplicate_status = ['Duplicates', 'Unique']\n",
        "counts = [user_review_data.duplicated(keep=False).sum(), (~user_review_data.duplicated(keep=False)).sum()]\n",
        "\n",
        "# Plotting\n",
        "plt.figure(figsize=(8, 6))\n",
        "plt.bar(duplicate_status, counts, color=['red', 'green'])\n",
        "plt.title('Duplicate vs Unique Rows (User review data)')\n",
        "plt.ylabel('Count')\n",
        "plt.show()\n"
      ],
      "metadata": {
        "id": "bW7o7A4Z--gp"
      },
      "execution_count": null,
      "outputs": []
    },
    {
      "cell_type": "markdown",
      "source": [
        "#### Missing Values/Null Values"
      ],
      "metadata": {
        "id": "PoPl-ycgm1ru"
      }
    },
    {
      "cell_type": "code",
      "source": [
        "# Missing Values/Null Values Count\n",
        "null_play=playstore_data.isna().sum()\n",
        "null_play\n"
      ],
      "metadata": {
        "id": "GgHWkxvamxVg"
      },
      "execution_count": null,
      "outputs": []
    },
    {
      "cell_type": "code",
      "source": [
        "null_user=user_review_data.isna().sum()\n",
        "null_user"
      ],
      "metadata": {
        "id": "zUC4XIs-8UNr"
      },
      "execution_count": null,
      "outputs": []
    },
    {
      "cell_type": "code",
      "source": [
        "# Visualizing the missing values\n",
        "import matplotlib.pyplot as plt\n",
        "\n",
        "# Plotting\n",
        "plt.figure(figsize=(10, 8))\n",
        "null_play.plot(kind='bar', color='coral')\n",
        "plt.title('Number of Null Values per Column')\n",
        "plt.ylabel('Count')\n",
        "plt.xticks(rotation=45, ha='right')\n",
        "plt.show()\n"
      ],
      "metadata": {
        "id": "3q5wnI3om9sJ"
      },
      "execution_count": null,
      "outputs": []
    },
    {
      "cell_type": "code",
      "source": [
        "# Visualizing the missing values\n",
        "import matplotlib.pyplot as plt\n",
        "\n",
        "# Plotting\n",
        "plt.figure(figsize=(10, 8))\n",
        "null_user.plot(kind='bar', color='coral')\n",
        "plt.title('Number of Null Values per Column')\n",
        "plt.ylabel('Count')\n",
        "plt.xticks(rotation=45, ha='right')\n",
        "plt.show()\n"
      ],
      "metadata": {
        "id": "45PmsFh1Wb16"
      },
      "execution_count": null,
      "outputs": []
    },
    {
      "cell_type": "code",
      "source": [
        "Rating_Mode = playstore_data['Rating'].mode().values[0]\n",
        "Type_Mode = playstore_data['Type'].mode().values[0]\n",
        "Content_Rating_Mode = playstore_data['Content Rating'].mode().values[0]\n",
        "Android_Ver_Mode = playstore_data['Android Ver'].mode().values[0]\n",
        "\n",
        "playstore_data[playstore_data['Rating'].isna()] = Rating_Mode\n",
        "playstore_data[playstore_data['Type'].isna()] = Type_Mode\n",
        "playstore_data[playstore_data['Content Rating'].isna()] = Content_Rating_Mode\n",
        "playstore_data[playstore_data['Android Ver'].isna()] = Android_Ver_Mode\n",
        "\n",
        "playstore_data['Current Ver'].fillna('Not Available',inplace=True)"
      ],
      "metadata": {
        "id": "oBmbqpjAxGDv"
      },
      "execution_count": null,
      "outputs": []
    },
    {
      "cell_type": "code",
      "source": [
        "playstore_data.isna().sum()"
      ],
      "metadata": {
        "id": "8LBkKZIrbS_K"
      },
      "execution_count": null,
      "outputs": []
    },
    {
      "cell_type": "code",
      "source": [
        "Data_to_drop = playstore_data[playstore_data['App'] == playstore_data['Rating']]\n",
        "Data_to_drop"
      ],
      "metadata": {
        "id": "qnw70a5tbfB4"
      },
      "execution_count": null,
      "outputs": []
    },
    {
      "cell_type": "code",
      "source": [
        "playstore_data.drop(Data_to_drop.index[:],axis=0,inplace=True)"
      ],
      "metadata": {
        "id": "5y6NcbrmdM4B"
      },
      "execution_count": null,
      "outputs": []
    },
    {
      "cell_type": "code",
      "source": [
        "user_review_data.dropna(subset=['Translated_Review','Sentiment','Sentiment_Polarity','Sentiment_Subjectivity'],inplace=True)\n",
        "user_review_data.info()"
      ],
      "metadata": {
        "id": "kY38iYRldlI6"
      },
      "execution_count": null,
      "outputs": []
    },
    {
      "cell_type": "code",
      "source": [
        "playstore_data.info()\n",
        "\n"
      ],
      "metadata": {
        "id": "oiOV4q0leau1"
      },
      "execution_count": null,
      "outputs": []
    },
    {
      "cell_type": "code",
      "source": [
        "\n",
        "  playstore_data.rename({'Price':'Price (in $)'},inplace=True,axis=1)\n",
        "\n",
        "  playstore_data['Reviews']=playstore_data['Reviews'].replace('4.1 and up',0).replace('Everyone',0).astype(int)\n",
        "\n",
        "  playstore_data['Rating'] = playstore_data['Rating'].replace('4.1 and up',playstore_data['Rating'].mean()).replace('Everyone',playstore_data['Rating'].mean()).astype(float)\n",
        "\n",
        "  playstore_data['Installs']=playstore_data['Installs'].apply(lambda x : int(x[0:(len(x)-1)].replace(',','')))\n",
        "\n",
        "  playstore_data['Price (in $)'] = playstore_data['Price (in $)'].replace('4.1 and up',0).replace('Everyone',0).apply(lambda x: float(x.replace('$','')))\n",
        "\n",
        "  playstore_data['Last Update Year'] = pd.DatetimeIndex(pd.to_datetime(playstore_data['Last Updated'].apply(lambda x : x[-4:]),format='%Y')).year\n",
        "\n"
      ],
      "metadata": {
        "id": "sBFH2wRbffU3"
      },
      "execution_count": null,
      "outputs": []
    },
    {
      "cell_type": "code",
      "source": [
        "playstore_data.info()"
      ],
      "metadata": {
        "id": "VqBW9fcLhjra"
      },
      "execution_count": null,
      "outputs": []
    },
    {
      "cell_type": "code",
      "source": [
        "user_review_data.info()"
      ],
      "metadata": {
        "id": "-ZV_kfYrh-EK"
      },
      "execution_count": null,
      "outputs": []
    },
    {
      "cell_type": "code",
      "source": [
        "playstore_data.head(70)"
      ],
      "metadata": {
        "id": "N1KP_zaXiPUI"
      },
      "execution_count": null,
      "outputs": []
    },
    {
      "cell_type": "markdown",
      "source": [
        "#Data cleaning"
      ],
      "metadata": {
        "id": "gfoNAAC-nUe_"
      }
    },
    {
      "cell_type": "markdown",
      "source": [
        "### What all manipulations have you done and insights you found?"
      ],
      "metadata": {
        "id": "MSa1f5Uengrz"
      }
    },
    {
      "cell_type": "markdown",
      "source": [
        "  1. Replaces any occurrences of '4.1 and up' and 'Everyone' in the Reviews column with 0. These replacements indicate that the dataset might have some data entry errors or placeholders that need to be handled. Typically, 'Reviews' should be numeric, and these values do not fit the expected format.\n",
        "\n",
        "  2. Similar to the Reviews column, this line handles erroneous or placeholder values ('4.1 and up' and 'Everyone') in the Rating column by replacing them with the mean rating of the dataset.\n",
        "  Converts the Rating column to a float data type to ensure ratings are in decimal form.\n",
        "\n",
        "  3. Cleaning the 'Installs' Column.\n",
        "\n",
        "  4. Cleans the Price (in $) column by replacing '4.1 and up' and 'Everyone' with 0, indicating that apps with these placeholders are considered free.\n",
        "\n",
        "  5. Extracting and Converting the 'Last Update Year'.\n",
        "\n",
        "  6. Dropping no rating and review rows in user review data.\n",
        "\n",
        "  7. Replacing NA values with suitable data filling."
      ],
      "metadata": {
        "id": "2lPlG0Exgt90"
      }
    },
    {
      "cell_type": "markdown",
      "source": [
        "## ***2. Understanding Your Variables***"
      ],
      "metadata": {
        "id": "nA9Y7ga8ng1Z"
      }
    },
    {
      "cell_type": "code",
      "source": [
        "# Dataset Columns\n",
        "playstore_data.columns"
      ],
      "metadata": {
        "id": "j7xfkqrt5Ag5"
      },
      "execution_count": null,
      "outputs": []
    },
    {
      "cell_type": "code",
      "source": [
        "user_review_data.columns"
      ],
      "metadata": {
        "id": "F959WPMti8kq"
      },
      "execution_count": null,
      "outputs": []
    },
    {
      "cell_type": "code",
      "source": [
        "# Dataset Describe\n",
        "playstore_data.describe()"
      ],
      "metadata": {
        "id": "DnOaZdaE5Q5t"
      },
      "execution_count": null,
      "outputs": []
    },
    {
      "cell_type": "code",
      "source": [
        "user_review_data.describe()"
      ],
      "metadata": {
        "id": "GAIN5QSOjLlS"
      },
      "execution_count": null,
      "outputs": []
    },
    {
      "cell_type": "markdown",
      "source": [
        "### Variables Description"
      ],
      "metadata": {
        "id": "PBTbrJXOngz2"
      }
    },
    {
      "cell_type": "markdown",
      "source": [
        "Answer Here"
      ],
      "metadata": {
        "id": "aJV4KIxSnxay"
      }
    },
    {
      "cell_type": "markdown",
      "source": [
        "### Check Unique Values for each variable."
      ],
      "metadata": {
        "id": "u3PMJOP6ngxN"
      }
    },
    {
      "cell_type": "code",
      "source": [
        "# Check Unique Values for each variable.\n",
        "for column in playstore_data.columns:\n",
        "    print(f\"Unique values in '{column}':\", playstore_data[column].nunique())\n"
      ],
      "metadata": {
        "id": "zms12Yq5n-jE"
      },
      "execution_count": null,
      "outputs": []
    },
    {
      "cell_type": "code",
      "source": [
        "for column in user_review_data.columns:\n",
        "    print(f\"Unique values in '{column}':\", user_review_data[column].nunique())\n"
      ],
      "metadata": {
        "id": "L_0L3RURj8sQ"
      },
      "execution_count": null,
      "outputs": []
    },
    {
      "cell_type": "markdown",
      "source": [
        "Answer Here."
      ],
      "metadata": {
        "id": "LbyXE7I1olp8"
      }
    },
    {
      "cell_type": "markdown",
      "source": [
        "## ***4. Data Vizualization, Storytelling & Experimenting with charts : Understand the relationships between variables***"
      ],
      "metadata": {
        "id": "GF8Ens_Soomf"
      }
    },
    {
      "cell_type": "markdown",
      "source": [
        "#### Chart - 1 Distribution of apps across different categories"
      ],
      "metadata": {
        "id": "0wOQAZs5pc--"
      }
    },
    {
      "cell_type": "code",
      "source": [
        "# Q1: Distribution of apps across different categories\n",
        "plt.figure(figsize=(12, 8))\n",
        "category_count = playstore_data['Category'].value_counts()\n",
        "sns.barplot(x=category_count, y=category_count.index, palette='viridis')\n",
        "plt.title('Distribution of Apps Across Categories in Google Play Store')\n",
        "plt.xlabel('Number of Apps')\n",
        "plt.ylabel('Category')\n",
        "plt.show()\n"
      ],
      "metadata": {
        "id": "7v_ESjsspbW7"
      },
      "execution_count": null,
      "outputs": []
    },
    {
      "cell_type": "markdown",
      "source": [
        "##### 1. Why did you pick the specific chart?\n"
      ],
      "metadata": {
        "id": "K5QZ13OEpz2H"
      }
    },
    {
      "cell_type": "markdown",
      "source": [
        "The bar charts help us compare different categories as length of bars depict the number of apps.\n"
      ],
      "metadata": {
        "id": "7S7hYAwHeSUo"
      }
    },
    {
      "cell_type": "markdown",
      "source": [
        "##### 2. What is/are the insight(s) found from the chart?"
      ],
      "metadata": {
        "id": "lQ7QKXXCp7Bj"
      }
    },
    {
      "cell_type": "markdown",
      "source": [
        "Family,Games and tools category have the highest number of apps."
      ],
      "metadata": {
        "id": "C_j1G7yiqdRP"
      }
    },
    {
      "cell_type": "markdown",
      "source": [
        "##### 3. Will the gained insights help creating a positive business impact?\n"
      ],
      "metadata": {
        "id": "448CDAPjqfQr"
      }
    },
    {
      "cell_type": "markdown",
      "source": [
        "The business can aim for less popular categories and find ideas for an app that might become the next best app of that category as for the top categories the number of apps are very high and scope of improvement might be less."
      ],
      "metadata": {
        "id": "3cspy4FjqxJW"
      }
    },
    {
      "cell_type": "markdown",
      "source": [
        "#### Chart - 2 Relationship between app ratings and number of reviews"
      ],
      "metadata": {
        "id": "KSlN3yHqYklG"
      }
    },
    {
      "cell_type": "code",
      "source": [
        "\n",
        "# Q2: Relationship between app ratings and number of reviews\n",
        "plt.figure(figsize=(10, 6))\n",
        "sns.scatterplot(data=playstore_data, x='Rating', y='Reviews', alpha=0.5)\n",
        "plt.title('Relationship Between App Ratings and Number of Reviews')\n",
        "plt.xlabel('Rating')\n",
        "plt.ylabel('Number of Reviews')\n",
        "plt.show()\n"
      ],
      "metadata": {
        "id": "R4YgtaqtYklH"
      },
      "execution_count": null,
      "outputs": []
    },
    {
      "cell_type": "markdown",
      "source": [
        "##### 1. Why did you pick the specific chart?"
      ],
      "metadata": {
        "id": "t6dVpIINYklI"
      }
    },
    {
      "cell_type": "markdown",
      "source": [
        "The scatter plot was chosen to illustrate the relationship between two quantitative variables: app ratings and the number of reviews."
      ],
      "metadata": {
        "id": "5aaW0BYyYklI"
      }
    },
    {
      "cell_type": "markdown",
      "source": [
        "##### 2. What is/are the insight(s) found from the chart?"
      ],
      "metadata": {
        "id": "ijmpgYnKYklI"
      }
    },
    {
      "cell_type": "markdown",
      "source": [
        "1. There is dense clustering of data points with a rating of around 4.0, which may indicate that the majority of apps have good ratings and a moderate number of reviews.\n",
        "2. The highest concentration of reviews is among apps rated between 4 and 5. Very few apps with low ratings (below 3) have a large number of reviews, indicating that users might be less inclined to review poorly rated apps."
      ],
      "metadata": {
        "id": "PSx9atu2YklI"
      }
    },
    {
      "cell_type": "markdown",
      "source": [
        "#### Chart - 3 App ratings vary across different content ratings"
      ],
      "metadata": {
        "id": "EM7whBJCYoAo"
      }
    },
    {
      "cell_type": "code",
      "source": [
        "\n",
        "# Q3: App ratings vary across different content ratings\n",
        "plt.figure(figsize=(10, 6))\n",
        "sns.boxplot(data=playstore_data, x='Content Rating', y='Rating', palette='coolwarm')\n",
        "plt.title('App Ratings Across Different Content Ratings')\n",
        "plt.xlabel('Content Rating')\n",
        "plt.ylabel('Rating')\n",
        "plt.show()\n"
      ],
      "metadata": {
        "id": "t6GMdE67YoAp"
      },
      "execution_count": null,
      "outputs": []
    },
    {
      "cell_type": "markdown",
      "source": [
        "##### 2. What is/are the insight(s) found from the chart?"
      ],
      "metadata": {
        "id": "85gYPyotYoAp"
      }
    },
    {
      "cell_type": "markdown",
      "source": [
        "\n",
        "The box plot visualizes the distribution of app ratings across different content ratings in the Google Play Store. Each box plot corresponds to one content rating category ('Everyone', 'Teen', 'Everyone 10+', 'Mature 17+', 'Adults only 18+', and 'Unrated').\n",
        "Analyzing each content rating:\n",
        "\n",
        "Everyone: The box plot shows that most apps rated for \"Everyone\" have a median rating around 4.3-4.5, with a fairly tight IQR, indicating that ratings are generally consistent. There are several outliers, particularly on the lower end, suggesting that there are a number of such apps with lower ratings.\n",
        "\n",
        "Teen: Apps with a \"Teen\" rating have a similar median rating to the \"Everyone\" category with less spread of extreme outliers.\n",
        "\n",
        "\n",
        "Mature 17+: The median rating is lower than the other categories for younger audiences, and the IQR is broad, suggesting greater variability in ratings. There are a few outliers showing both very high and very low ratings.\n",
        "\n",
        "Adults only 18+: This category has the highest median rating but also a very small box and fewer data points, which suggests that there are fewer apps in this category and they tend to be rated more positively, although the sample size might be too small to draw definitive conclusions.\n",
        "\n",
        "Unrated: The \"Unrated\" box plot is quite unique with a very small range and no IQR, implying very few apps in this category, and they tend to have similar ratings, which are around the median value.\n",
        "\n",
        "Overall, the graph suggests that while there are differences in rating distributions across content ratings, most apps are rated above 4.0, with a trend toward a slightly lower median rating as the intended audience age increases. However, the \"Adults only 18+\" category bucks this trend, potentially due to the small number of apps with this rating."
      ],
      "metadata": {
        "id": "4jstXR6OYoAp"
      }
    },
    {
      "cell_type": "markdown",
      "source": [
        "#### Chart - 4 Free vs. Paid Apps in Categories"
      ],
      "metadata": {
        "id": "OH-pJp9IphqM"
      }
    },
    {
      "cell_type": "code",
      "source": [
        "# Q4: Free vs. Paid Apps in Categories\n",
        "plt.figure(figsize=(12, 8))\n",
        "# Create a new column to easily filter free and paid apps\n",
        "playstore_data['Type'] = playstore_data['Price (in $)'].apply(lambda x: 'Free' if x == 0 else 'Paid')\n",
        "category_type_counts = playstore_data.groupby(['Category', 'Type']).size().unstack().fillna(0)\n",
        "category_type_counts.plot(kind='bar', stacked=True, figsize=(14, 8), color=['skyblue', 'orange'])\n",
        "plt.title('Number of Free vs. Paid Apps Across Categories')\n",
        "plt.xlabel('Category')\n",
        "plt.ylabel('Number of Apps')\n",
        "plt.xticks(rotation=90)\n",
        "plt.show()\n"
      ],
      "metadata": {
        "id": "kuRf4wtuphqN"
      },
      "execution_count": null,
      "outputs": []
    },
    {
      "cell_type": "markdown",
      "source": [
        "##### 1. Why did you pick the specific chart?"
      ],
      "metadata": {
        "id": "bbFf2-_FphqN"
      }
    },
    {
      "cell_type": "markdown",
      "source": [
        "Stacked bar chart is crisp and can accomodate two insights at a time."
      ],
      "metadata": {
        "id": "loh7H2nzphqN"
      }
    },
    {
      "cell_type": "markdown",
      "source": [
        "##### 2. What is/are the insight(s) found from the chart?"
      ],
      "metadata": {
        "id": "_ouA3fa0phqN"
      }
    },
    {
      "cell_type": "markdown",
      "source": [
        "\n",
        "Paid App Presence: While the number of paid apps is significantly lower compared to free apps, certain categories like \"Personalization\" ,\"Medical\" and \"Tools\" seem to have a relatively higher presence of paid apps. This could suggest that users may be more willing to pay for apps that offer utility or customization.\n",
        "\n",
        "\n",
        "Niche Markets: Categories with a lower overall number of apps, including paid apps, might represent niche markets. These could be areas where specialized apps cater to specific user needs, and there may be opportunities for new entrants if they can provide value.\n",
        "\n"
      ],
      "metadata": {
        "id": "VECbqPI7phqN"
      }
    },
    {
      "cell_type": "markdown",
      "source": [
        "#### Chart - 5 Distribution of App Prices\n"
      ],
      "metadata": {
        "id": "PIIx-8_IphqN"
      }
    },
    {
      "cell_type": "code",
      "source": [
        "# Q5: Distribution of App Prices\n",
        "plt.figure(figsize=(10, 6))\n",
        "# Filter out free apps for the price distribution of paid apps\n",
        "paid_apps = playstore_data[playstore_data['Type'] == 'Paid']\n",
        "sns.histplot(paid_apps['Price (in $)'], kde=True, bins=30, color='purple')\n",
        "plt.title('Distribution of App Prices in Paid Apps Category')\n",
        "plt.xlabel('Price (in $)')\n",
        "plt.ylabel('Frequency')\n",
        "plt.show()\n"
      ],
      "metadata": {
        "id": "lqAIGUfyphqO"
      },
      "execution_count": null,
      "outputs": []
    },
    {
      "cell_type": "markdown",
      "source": [
        "##### 2. What is/are the insight(s) found from the chart?"
      ],
      "metadata": {
        "id": "r2jJGEOYphqO"
      }
    },
    {
      "cell_type": "markdown",
      "source": [
        "Price Skew: The distribution of app prices is heavily right-skewed, meaning most of the paid apps are priced at the lower end of the spectrum.\n",
        "\n",
        "Common Price Range: A large number of apps are clustered around the lowest price point, suggesting that most paid apps are relatively inexpensive.\n",
        "\n",
        "Long Tail: There is a long tail extending toward the more expensive price points, indicating that while there are paid apps with higher prices, they are much rarer.\n",
        "\n",
        "High-Price Outliers: The bars at the far end of the x-axis suggest there are a few apps with very high prices compared to the rest. These could be specialty apps or those aimed at a niche market.\n",
        "\n",
        "Affordable Pricing Strategy: The high frequency of apps in the lower price range may indicate that developers price apps to encourage impulse purchases or to make the price of entry low enough to attract a larger user base.\n",
        "\n",
        "Limited High-Priced App Market: The graph suggests that the market for very expensive apps is limited, with few developers pricing their apps in the higher brackets, possibly due to a lower demand at these price points.\n",
        "\n",
        "Majority Below $50\n"
      ],
      "metadata": {
        "id": "Po6ZPi4hphqO"
      }
    },
    {
      "cell_type": "markdown",
      "source": [
        "#### Chart - 6 Update Frequency and Ratings"
      ],
      "metadata": {
        "id": "BZR9WyysphqO"
      }
    },
    {
      "cell_type": "code",
      "source": [
        "# Q6: Update Frequency and Ratings\n",
        "plt.figure(figsize=(10, 6))\n",
        "# Assuming 'Last Update Year' is a column with the year of the last update\n",
        "sns.scatterplot(data=playstore_data, x='Last Update Year', y='Rating', alpha=0.5)\n",
        "plt.title('App Update Frequency vs. Rating')\n",
        "plt.xlabel('Last Update Year')\n",
        "plt.ylabel('Rating')\n",
        "plt.show()\n"
      ],
      "metadata": {
        "id": "TdPTWpAVphqO"
      },
      "execution_count": null,
      "outputs": []
    },
    {
      "cell_type": "markdown",
      "source": [
        "##### 2. What is/are the insight(s) found from the chart?"
      ],
      "metadata": {
        "id": "eZrbJ2SmphqO"
      }
    },
    {
      "cell_type": "markdown",
      "source": [
        "The number of data points for each year seems to increase over time, suggesting that more apps have been updated in recent years, or possibly that the number of apps in the store has been increasing."
      ],
      "metadata": {
        "id": "mZtgC_hjphqO"
      }
    },
    {
      "cell_type": "markdown",
      "source": [
        "#### Chart - 7 What are the common words used in positive and negative reviews in the User Reviews dataset?"
      ],
      "metadata": {
        "id": "YJ55k-q6phqO"
      }
    },
    {
      "cell_type": "code",
      "source": [
        "#Q7. What are the common words used in positive and negative reviews in the User Reviews dataset?\n",
        "from wordcloud import WordCloud\n",
        "\n",
        "# Assuming 'Sentiment' is a column in 'user_review_data' that marks reviews as Positive, Negative, or Neutral\n",
        "# And 'Translated_Review' is the column with the review text\n",
        "\n",
        "# Filter positive and negative reviews\n",
        "positive_reviews = ' '.join(user_review_data[user_review_data['Sentiment'] == 'Positive']['Translated_Review'].fillna(''))\n",
        "negative_reviews = ' '.join(user_review_data[user_review_data['Sentiment'] == 'Negative']['Translated_Review'].fillna(''))\n",
        "\n",
        "# Generate word clouds\n",
        "plt.figure(figsize=(20, 10))\n",
        "plt.subplot(1, 2, 1)\n",
        "pos_wordcloud = WordCloud(width=800, height=400, background_color ='white').generate(positive_reviews)\n",
        "plt.imshow(pos_wordcloud, interpolation='bilinear')\n",
        "plt.title('Common Words in Positive Reviews')\n",
        "plt.axis('off')\n",
        "\n",
        "plt.subplot(1, 2, 2)\n",
        "neg_wordcloud = WordCloud(width=800, height=400, background_color ='white').generate(negative_reviews)\n",
        "plt.imshow(neg_wordcloud, interpolation='bilinear')\n",
        "plt.title('Common Words in Negative Reviews')\n",
        "plt.axis('off')\n",
        "plt.show()\n"
      ],
      "metadata": {
        "id": "B2aS4O1ophqO"
      },
      "execution_count": null,
      "outputs": []
    },
    {
      "cell_type": "markdown",
      "source": [
        "In positive reviews: Words like \"great,\" \"love,\" \"good,\" \"best,\" and \"awesome\" are prominent, suggesting strong satisfaction with the apps.\n",
        "\n",
        "The most prominent words are \"bad,\" \"problem,\" \"issue,\" \"worst,\" and \"annoying,\" indicating common themes in negative reviews."
      ],
      "metadata": {
        "id": "ngGi97qjphqQ"
      }
    },
    {
      "cell_type": "markdown",
      "source": [
        "#### Chart - 8 Sentiment Polarity Across Categories"
      ],
      "metadata": {
        "id": "U2RJ9gkRphqQ"
      }
    },
    {
      "cell_type": "code",
      "source": [
        "playstore_df = playstore_data[['App','Category']]\n",
        "user_review_df = user_review_data[['App','Sentiment','Sentiment_Polarity']]\n",
        "new = pd.merge(playstore_df, user_review_df, how='right',left_on=['App'],right_on='App')\n",
        "new"
      ],
      "metadata": {
        "id": "FroZuTeLtYyo"
      },
      "execution_count": null,
      "outputs": []
    },
    {
      "cell_type": "code",
      "source": [
        "#Q8: Sentiment Polarity Across Categories\n",
        "plt.figure(figsize=(14, 8))\n",
        "top_categories = new['Category'].value_counts().nlargest(5).index\n",
        "filtered_reviews = new[new['Category'].isin(top_categories)]\n",
        "sns.boxplot(data=filtered_reviews, x='Category', y='Sentiment_Polarity', palette='Set2')\n",
        "plt.title('Sentiment Polarity of Reviews Across Top Categories')\n",
        "plt.xlabel('Category')\n",
        "plt.ylabel('Sentiment Polarity')\n",
        "plt.xticks(rotation=45)\n",
        "plt.show()\n"
      ],
      "metadata": {
        "id": "GM7a4YP4phqQ"
      },
      "execution_count": null,
      "outputs": []
    },
    {
      "cell_type": "markdown",
      "source": [
        "##### 2. What is/are the insight(s) found from the chart?"
      ],
      "metadata": {
        "id": "tgIPom80phqQ"
      }
    },
    {
      "cell_type": "markdown",
      "source": [
        "Health and Fitness: This category has a median sentiment polarity above 0.25, which indicates generally positive sentiment in the reviews. The spread of sentiment is narrow, suggesting that opinions about these apps are mostly positive with few outliers.\n",
        "\n",
        "\n",
        "Neutral Sentiment: Categories with medians close to zero might suggest that on average, reviews tend to be more neutral or mixed, with positive and negative sentiments balancing each other out.\n",
        "\n",
        "This box plot helps app developers and marketers understand which categories are well-received and which may require attention to improve user satisfaction, as reflected in the sentiment of the reviews."
      ],
      "metadata": {
        "id": "Qp13pnNzphqQ"
      }
    },
    {
      "cell_type": "markdown",
      "source": [
        "#### Chart - 9 What percentage of apps support different versions of Android?"
      ],
      "metadata": {
        "id": "x-EpHcCOp1ci"
      }
    },
    {
      "cell_type": "code",
      "source": [
        "\n",
        "#Q9.What percentage of apps support different versions of Android?\n",
        "android_version_counts = playstore_data['Android Ver'].value_counts(normalize=True) * 100\n",
        "plt.figure(figsize=(30, 15))\n",
        "android_version_counts.plot(kind='pie', autopct='%1.1f%%')\n",
        "plt.title('Percentage of Apps by Android Version Support')\n",
        "plt.ylabel('')  # Hide the y-label as it's not needed for pie charts\n",
        "plt.show()\n"
      ],
      "metadata": {
        "id": "EUfxeq9-p1cl"
      },
      "execution_count": null,
      "outputs": []
    },
    {
      "cell_type": "markdown",
      "source": [
        "##### 2. What is/are the insight(s) found from the chart?"
      ],
      "metadata": {
        "id": "2cELzS2fp1cl"
      }
    },
    {
      "cell_type": "markdown",
      "source": [
        "Broad Compatibility: A significant proportion of apps support a wide range of Android versions (e.g., \"4.0.3 and up\"), suggesting developers aim for broad compatibility to reach a larger user base.\n",
        "\n",
        "Modern Android Support: There is a notable percentage of apps that require more recent versions of Android (e.g., \"5.0 and up\"), indicating developers are taking advantage of newer Android features and technologies.\n",
        "\n",
        "Fragmentation: The variety of Android versions supported reflects the fragmentation of the Android ecosystem. Developers must decide whether to target newer versions with more features or older versions with a potentially larger user base.\n",
        "\n",
        "\"Varies with device\": This category is quite substantial, showing that many apps have different minimum version requirements depending on the device. This could indicate adaptive app development practices where compatibility is tailored to individual device capabilities.These might be apps for specific companies as their inbuilt app."
      ],
      "metadata": {
        "id": "ozQPc2_Ip1cl"
      }
    },
    {
      "cell_type": "markdown",
      "source": [
        "#### Chart - 10 Number of app installs by content rating.\n"
      ],
      "metadata": {
        "id": "NC_X3p0fY2L0"
      }
    },
    {
      "cell_type": "markdown",
      "source": [
        "Answer Here"
      ],
      "metadata": {
        "id": "bfSqtnDqZNRR"
      }
    },
    {
      "cell_type": "code",
      "source": [
        "#Q10. Number of app installs by content rating.\n",
        "\n",
        "# Summarizing total installs by content rating\n",
        "installs_by_content_rating = playstore_data.groupby('Content Rating')['Installs'].sum().reset_index()\n",
        "\n",
        "# Sorting the data to ensure the chart is ordered by the number of installs\n",
        "installs_by_content_rating = installs_by_content_rating.sort_values('Installs', ascending=False)\n"
      ],
      "metadata": {
        "id": "o58-TEIhveiU"
      },
      "execution_count": null,
      "outputs": []
    },
    {
      "cell_type": "code",
      "source": [
        "plt.figure(figsize=(10, 6))\n",
        "sns.barplot(data=installs_by_content_rating, x='Content Rating', y='Installs', palette='coolwarm')\n",
        "plt.title('Total Installs by Content Rating')\n",
        "plt.xlabel('Content Rating')\n",
        "plt.ylabel('Total Number of Installs')\n",
        "plt.xticks(rotation=45)\n",
        "plt.show()\n"
      ],
      "metadata": {
        "id": "rhx5IIhUwjD-"
      },
      "execution_count": null,
      "outputs": []
    },
    {
      "cell_type": "markdown",
      "source": [
        "Dominance of 'Everyone' Category: Apps rated as appropriate for 'Everyone' have by far the most installs. This suggests that apps with the broadest possible audience reach the largest number of installations.\n",
        "\n",
        "Decreasing Installs with Age Restriction: As the content rating becomes more restrictive (from 'Everyone' to 'Teen' to 'Everyone 10+' and so on), the total number of installs decreases. This trend could be due to a smaller target audience as the content rating narrows to older age groups."
      ],
      "metadata": {
        "id": "qNo8hetU65V7"
      }
    },
    {
      "cell_type": "markdown",
      "source": [
        "#### Chart - 11 - Percentage of free and paid apps?"
      ],
      "metadata": {
        "id": "FTV551vlmUIi"
      }
    },
    {
      "cell_type": "code",
      "source": [
        "\n",
        "# Q11. Percentage of free and paid apps?\n",
        "plt.figure(figsize=(7, 7))  # Adjust size to be square to accommodate the pie chart\n",
        "app_types.plot(kind='pie', autopct='%1.1f%%', colors=['green', 'red'], startangle=90)\n",
        "plt.title('Proportion of Free vs. Paid Apps')\n",
        "plt.ylabel('')  # Remove the y-axis label for clarity as it's not needed for pie charts\n",
        "plt.show()\n"
      ],
      "metadata": {
        "id": "Kry9s8Ev_0Ut"
      },
      "execution_count": null,
      "outputs": []
    },
    {
      "cell_type": "markdown",
      "source": [
        "93 % apps are free and paid apps are approx 7 %."
      ],
      "metadata": {
        "id": "2iUCbNSICS9Y"
      }
    },
    {
      "cell_type": "markdown",
      "source": [
        "#### Chart - 12 Calculate the average rating per category."
      ],
      "metadata": {
        "id": "hFvAx3NwmcB0"
      }
    },
    {
      "cell_type": "code",
      "source": [
        "#Q12 Calculate the average rating per category.\n",
        "\n",
        "average_ratings = playstore_data.groupby('Category')['Rating'].mean().sort_values()\n",
        "\n",
        "# Plot\n",
        "plt.figure(figsize=(10, 8))\n",
        "average_ratings.plot(kind='barh', color='skyblue')\n",
        "plt.title('Average Rating by Category')\n",
        "plt.xlabel('Average Rating')\n",
        "plt.ylabel('Category')\n",
        "plt.show()\n",
        "\n"
      ],
      "metadata": {
        "id": "rSd7WxQSUyRg"
      },
      "execution_count": null,
      "outputs": []
    },
    {
      "cell_type": "markdown",
      "source": [
        "Some categories might inherently receive higher ratings due to the nature of the apps they contain. For instance, \"Education\" and \"Events\" apps might fulfill specific needs, leading to higher satisfaction and thus higher ratings.\n",
        "\n",
        " The \"Dating\" category shows a lower average rating compared to others, indicating that users might have a harder time finding apps that meet their expectations or that they experience more dissatisfaction in this category."
      ],
      "metadata": {
        "id": "quI_7PfACoEB"
      }
    },
    {
      "cell_type": "markdown",
      "source": [
        "Chart 13 : Correlation Heatmap among: Rating , Review, Install, Price"
      ],
      "metadata": {
        "id": "k_Dus8F0vMDD"
      }
    },
    {
      "cell_type": "code",
      "source": [
        "data_corr = playstore_data[['Rating', 'Reviews', 'Installs', 'Price (in $)']]\n",
        "corr_playstore_data = data_corr.corr()\n",
        "corr_playstore_data"
      ],
      "metadata": {
        "id": "vn50AcRaXjQ4"
      },
      "execution_count": null,
      "outputs": []
    },
    {
      "cell_type": "code",
      "source": [
        "plt.figure(figsize=(10,5))\n",
        "sns.heatmap(corr_playstore_data, vmin=-1, cmap='coolwarm', annot=True)"
      ],
      "metadata": {
        "id": "2j0H8qoSXm3I"
      },
      "execution_count": null,
      "outputs": []
    },
    {
      "cell_type": "markdown",
      "source": [
        "For correlation, heat maps are very easy to understand."
      ],
      "metadata": {
        "id": "uPdW4aqfuSbt"
      }
    },
    {
      "cell_type": "markdown",
      "source": [
        "The overall insight from this heatmap is that the number of reviews and installs are moderately correlated, while price does not show a significant correlation with any of the other variables. Additionally, ratings have a very weak correlation with reviews and installs, and almost no correlation with price."
      ],
      "metadata": {
        "id": "eMmPjTByveiU"
      }
    },
    {
      "cell_type": "markdown",
      "source": [
        "Chart14 Average app rating per year."
      ],
      "metadata": {
        "id": "XJMih-g6s2yL"
      }
    },
    {
      "cell_type": "code",
      "source": [
        "# Convert 'Last Updated' to datetime and extract the year\n",
        "playstore_data['Last Updated'] = pd.to_datetime(playstore_data['Last Updated'])\n",
        "playstore_data['Year Updated'] = playstore_data['Last Updated'].dt.year\n",
        "\n",
        "# Calculate the average rating per year\n",
        "average_rating_per_year = playstore_data.groupby('Year Updated')['Rating'].mean().reset_index()\n"
      ],
      "metadata": {
        "id": "mUQphlmdqO_u"
      },
      "execution_count": null,
      "outputs": []
    },
    {
      "cell_type": "code",
      "source": [
        "plt.figure(figsize=(12, 6))\n",
        "sns.lineplot(data=average_rating_per_year, x='Year Updated', y='Rating', marker='o')\n",
        "plt.title('Average App Rating Over Time')\n",
        "plt.xlabel('Year')\n",
        "plt.ylabel('Average Rating')\n",
        "plt.xticks(average_rating_per_year['Year Updated'])  # Ensure all years are displayed\n",
        "plt.grid(True)  # Add a grid for easier reading\n",
        "plt.show()\n"
      ],
      "metadata": {
        "id": "FM1P3IBZqQ_a"
      },
      "execution_count": null,
      "outputs": []
    },
    {
      "cell_type": "markdown",
      "source": [
        "Initial Decline: There's a sharp decline in the average rating from 2010 to 2011. This might indicate either a surge of new apps with lower quality or changes in user expectations or rating behaviors.\n",
        "\n",
        "Low Point in 2012: The year 2012 shows the lowest point in average app ratings. It would be interesting to explore if any significant market events occurred around this time, such as a flood of new app entries or policy changes in the store.\n",
        "\n",
        "Recovery and Growth: Post-2012, there is a noticeable recovery and a steady growth in ratings. This could be due to app developers improving app quality, users becoming more familiar with the app ecosystem, or possibly adjustments in the app rating system itself.\n",
        "\n",
        "Stabilization Period: Between 2013 and 2016, the average rating stabilizes around 4.0. This could suggest market maturity where apps maintain a consistent quality, or it might reflect a period where there were no significant changes impacting user ratings.\n",
        "\n",
        "Uptrend in Recent Years: There's a clear upward trend from 2016 to 2018, indicating an improvement in average app ratings. This could be due to better app development practices, enhanced user engagement strategies, or perhaps a shift in the user base.\n",
        "\n",
        "Overall Range: The overall range of the average ratings from the lowest to highest point is within a relatively narrow band (from about 3.8 to 4.3). This might suggest that while there are fluctuations, app quality—as perceived by users—does not vary drastically year over year."
      ],
      "metadata": {
        "id": "uPQ8RGwHveiV"
      }
    },
    {
      "cell_type": "markdown",
      "source": [
        "# **Conclusion**"
      ],
      "metadata": {
        "id": "gCX9965dhzqZ"
      }
    },
    {
      "cell_type": "markdown",
      "source": [
        "1. Family, games,Tool category has the most number of apps.Therefore the developer can aim for developing a high quality app in less popular categories as there can be a scope for exploration in categories that are less explored.\n",
        "\n",
        "2. Highest concentration of reviews is among the apps thar are rated between 4 and 5 which indicates that users might be less inclined to review poorly rated apps.\n",
        "\n",
        "3. There are differences in rating distributions across content ratings, most apps are rated above 4.0, with a trend toward a slightly lower median rating as the intended audience age increases. However, the \"Adults only 18+\" category bucks this trend, potentially due to the small number of apps with this rating.\n",
        "\n",
        "4. Certain categories like \"Personalization\" ,\"Medical\" and \"Tools\" seem to have a relatively higher presence of paid apps. This could suggest that users may be more willing to pay for apps that offer utility or customization.\n",
        "\n",
        "   Niche Markets: Categories with a lower overall number of apps, including paid apps, might represent niche markets. These could be areas where specialized apps cater to specific user needs, and there may be opportunities for new entrants if they can provide value.\n",
        "\n",
        "5. Mostly the paid apps lie below 50$ mark, this might be a strategy from developers to price the apps at a low entry price for impulse purchases by customers.\n",
        "\n",
        "6. The number of data points for each year seems to increase over time, suggesting that more apps have been updated in recent years, or possibly that the number of apps in the store has been increasing.\n",
        "\n",
        "7. In positive reviews: Words like \"great,\" \"love,\" \"good,\" \"best,\" and \"awesome\" are prominent, suggesting strong satisfaction with the apps.\n",
        "\n",
        "  The most prominent words are \"bad,\" \"problem,\" \"issue,\" \"worst,\" and \"annoying,\" indicating common themes in negative reviews.\n",
        "\n",
        "8. Health and fitness category has a median sentiment polarity above 0.25 and the spread shows that mostly the reviews are positive. Categories with median line close to zero suggests neutral sentiment.\n",
        "\n",
        "9. Broad Compatibility: A significant proportion of apps support a wide range of Android versions (e.g., \"4.0.3 and up\"), suggesting developers aim for broad compatibility to reach a larger user base.\n",
        "\n",
        "  Modern Android Support: There is a notable percentage of apps that require more recent versions of Android (e.g., \"5.0 and up\"), indicating developers are taking advantage of newer Android features and technologies.\n",
        "\n",
        "  Fragmentation: The variety of Android versions supported reflects the fragmentation of the Android ecosystem. Developers must decide whether to target newer versions with more features or older versions with a potentially larger user base.\n",
        "\n",
        "  \"Varies with device\": This category is quite substantial, showing that many apps have different minimum version requirements depending on the device. This could indicate adaptive app development practices where compatibility is tailored to individual device capabilities.These might be apps for specific companies as their inbuilt app.\n",
        "\n",
        "10. No. of installs reduce as age restriction increases.\n",
        "\n",
        "11. 93 % apps are free and only 7 % are paid apps. This tells us that mostly free apps are being preferred by developers and end users but as spending capacity of people increase, the 7% figure can grow in future.\n",
        "\n",
        "12. Education and Event category has a high rating because these apps are fullfilling specific needs.\n",
        "\n",
        "  Dating category shows lower rating as different users might have different feature expectations and current features of app might not fullfill it.\n",
        "So regular updates can help in such cases.\n",
        "\n",
        "13. Number of reviews and installs are moderately correlated, while price does not show a significant correlation with any of the other variables. Additionally, ratings have a very weak correlation with reviews and installs, and almost no correlation with price.\n",
        "\n",
        "14. A steep rise in app ratings trend starting from 2012 to 2013, this might be due to the boom of andrioid phone market or better app development.\n",
        "\n",
        "  Uptrend in recent years as more sophisticated apps are being developed with good development practice."
      ],
      "metadata": {
        "id": "Fjb1IsQkh3yE"
      }
    },
    {
      "cell_type": "markdown",
      "source": [
        "### ***Hurrah! You have successfully completed your EDA Capstone Project !!!***"
      ],
      "metadata": {
        "id": "gIfDvo9L0UH2"
      }
    }
  ]
}